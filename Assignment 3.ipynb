{
 "cells": [
  {
   "cell_type": "markdown",
   "id": "d9d1724f",
   "metadata": {},
   "source": [
    "# Decision Trees"
   ]
  },
  {
   "cell_type": "markdown",
   "id": "46240d43",
   "metadata": {},
   "source": [
    "#### Instructions:\n",
    "- Write modular code with relevant docstrings and comments for you to be able to use\n",
    "functions you have implemented in future assignments.\n",
    "- All theory questions and observations must be written in a markdown cell of your jupyter notebook.You can alsoadd necessary images in `imgs/` and then include it in markdown. Any other submission method for theoretical question won't be entertained.\n",
    "- Start the assignment early, push your code regularly and enjoy learning!"
   ]
  },
  {
   "cell_type": "markdown",
   "id": "b31d6a65",
   "metadata": {},
   "source": [
    "### Question 1 Optimal DT from table\n",
    "**[20 points]**\\\n",
    "We will use the dataset below to learn a decision tree which predicts if people pass machine\n",
    "learning (Yes or No), based on their previous GPA (High, Medium, or Low) and whether or\n",
    "not they studied. \n",
    "\n",
    "| GPA | Studied | Passed |\n",
    "|:---:|:-------:|:------:|\n",
    "|  L  |    F    |    F   |\n",
    "|  L  |    T    |    T   |\n",
    "|  M  |    F    |    F   |\n",
    "|  M  |    T    |    T   |\n",
    "|  H  |    F    |    T   |\n",
    "|  H  |    T    |    T   |\n",
    "    \n",
    " For this problem, you can write your answers using $log_2$\n",
    ", but it may be helpful to note\n",
    "that $log_2 3 ≈ 1.6$.\n",
    "\n",
    "---\n",
    "1. What is the entropy H(Passed)?\n",
    "2. What is the entropy H(Passed | GPA)?\n",
    "3. What is the entropy H(Passed | Studied)?\n",
    "4. Draw the full decision tree that would be learned for this dataset. You do\n",
    "not need to show any calculations.\n",
    "---\n"
   ]
  },
  {
   "cell_type": "markdown",
   "id": "a9a4876d",
   "metadata": {},
   "source": [
    "### Ans 1.\n",
    "H(Passed) = -(4/6)log2(4/6) - (2/6)log2(2/6) = 0.92\n",
    "\n",
    "### Ans 2.\n",
    "H(passed|GPA) = (1/3)(-(1/2)log2(1/2) - (1/2)log2(1/2)) + (1/3)(-(1/2)log2(1/2) - (1/2)log2(1/2)) + (1/3)(-1log2(1)) = 0.67\n",
    "\n",
    "### Ans 3.\n",
    "H(passed|Studied) = 1/2(-(3/3)log2(3/3) - (0/3)log2(0/3)) + 1/2(-(1/3)log2(1/3) - (2/3)log2(2/3)) = 0.46\n",
    "\n",
    "### Ans 4.\n",
    "<img src=\"imgs/ans4.jpeg\" >"
   ]
  },
  {
   "cell_type": "markdown",
   "id": "d58cf408",
   "metadata": {},
   "source": [
    "### Question 2 DT loss functions\n",
    "**[10 points]**\n",
    "1. Explain Gini impurity and Entropy. \n",
    "2. What are the min and max values for both Gini impurity and Entropy\n",
    "3. Plot the Gini impurity and Entropy for $p\\in[0,1]$.\n",
    "4. Multiply Gini impurity by a factor of 2 and overlay it over entropy."
   ]
  },
  {
   "cell_type": "markdown",
   "id": "2cc886b7",
   "metadata": {},
   "source": [
    "#### Ans 1\n",
    "Gini impurity is a measure of how often a randomly chosen element from the set would be incorrectly labeled if it was randomly labeled according to the distribution of labels in the subset. It means an attribute with lower Gini impurity should be preferred.\n",
    "Entropy is a measure of the uncertainty of a random variable. It is the average level of information contained in the variable. It means an attribute with lower entropy should be preferred.\n",
    "#### Ans 2\n",
    "Gini impurity: min = 0, max = 0.5\n",
    "\n",
    "Entropy: min = 0, max = 1\n",
    "#### Ans 3\n",
    "<img src=\"imgs/q2(3).png\" >\n",
    "\n",
    "where the orange curve represents gini impurity and the green curve represents entropy.\n",
    "\n",
    "#### Ans 4\n",
    "<img src=\"imgs/q2(4).png\" >\n",
    "\n",
    "where the orange curve represents gini impurity multiplied by a factor of 2 and the green curve represents entropy."
   ]
  },
  {
   "cell_type": "markdown",
   "id": "c9a406ac",
   "metadata": {},
   "source": [
    "### Question 3 Training a Decision Tree  \n",
    "**[40 points]**\n",
    "\n",
    "You can download the spam dataset from the link given below. This dataset contains feature vectors and the lables of Spam/Non-Spam mails. \n",
    "http://archive.ics.uci.edu/ml/machine-learning-databases/spambase/spambase.data\n",
    "\n",
    "**NOTE: The last column in each row represents whether the mail is spam or non spam**\\\n",
    "Although not needed, incase you want to know what the individual columns in the feature vector means, you can read it in the documentation given below.\n",
    "http://archive.ics.uci.edu/ml/machine-learning-databases/spambase/spambase.DOCUMENTATION"
   ]
  },
  {
   "cell_type": "markdown",
   "id": "28de757a",
   "metadata": {},
   "source": [
    "**Download the data and load it from the code given below**"
   ]
  },
  {
   "cell_type": "code",
   "execution_count": 121,
   "id": "163c0c1b",
   "metadata": {},
   "outputs": [],
   "source": [
    "\n",
    "#######################\n",
    "import pandas as pd\n",
    "spam = pd.read_csv('./spambase.data', sep=',', header=None)\n",
    "#######################\n"
   ]
  },
  {
   "cell_type": "markdown",
   "id": "1ffee80e",
   "metadata": {},
   "source": [
    "You can try to normalize each column (feature) separately with wither one of the following ideas. **Do not normalize labels**.\n",
    "- Shift-and-scale normalization: substract the minimum, then divide by new maximum. Now all values are between 0-1\n",
    "- Zero mean, unit variance : substract the mean, divide by the appropriate value to get variance=1."
   ]
  },
  {
   "cell_type": "code",
   "execution_count": 122,
   "id": "e67b0584",
   "metadata": {},
   "outputs": [],
   "source": [
    "\n",
    "#######################\n",
    "# Your code goes here #\n",
    "import numpy as np\n",
    "num_cols = spam.shape[1]\n",
    "for i in range(num_cols):\n",
    "    if i != num_cols-1:\n",
    "        spam.iloc[:,i] = spam.iloc[:,i] - np.min(spam.iloc[:,i])\n",
    "        spam.iloc[:,i] = spam.iloc[:,i] / np.max(spam.iloc[:,i])\n",
    "spam = spam.to_numpy()\n",
    "# get the last column of spam\n",
    "spam_labels = spam[:,-1]\n",
    "#######################\n"
   ]
  },
  {
   "cell_type": "markdown",
   "id": "ef858082",
   "metadata": {},
   "source": [
    "1. Split your data into train 80% and test dataset 20% \n",
    "2. **[BONUS]** Visualize the data using PCA . You can reduce the dimension of the data if you want. Bonus marks if this increases your accuracy.\n",
    "\n",
    "*NOTE: If you are applying PCA or any other type of dimensionality reduction, do it before splitting the dataset*"
   ]
  },
  {
   "cell_type": "code",
   "execution_count": 123,
   "id": "817244db",
   "metadata": {},
   "outputs": [
    {
     "data": {
      "image/png": "[encoded data removed]",
      "text/plain": [
       "<Figure size 432x288 with 1 Axes>"
      ]
     },
     "metadata": {
      "needs_background": "light"
     },
     "output_type": "display_data"
    }
   ],
   "source": [
    "\n",
    "#######################\n",
    "# Your code goes here #\n",
    "from sklearn.model_selection import train_test_split\n",
    "# apply pca to the data\n",
    "from sklearn.decomposition import PCA\n",
    "import matplotlib.pyplot as plt\n",
    "pca = PCA(n_components=2)\n",
    "# do pca except on last column\n",
    "spam_pca = pca.fit_transform(spam[:,:-1])\n",
    "# plot the data\n",
    "plt.scatter(spam_pca[:,0], spam_pca[:,1], c=spam_labels)\n",
    "plt.show()\n",
    "\n",
    "X_train, X_test, y_train, y_test = train_test_split(spam[:,:-1], spam_labels, test_size=0.2, random_state=42)\n",
    "\n",
    "#######################\n"
   ]
  },
  {
   "cell_type": "markdown",
   "id": "97e6bf66",
   "metadata": {},
   "source": [
    "You need to perform a K fold validation on this and report the average training error over all the k validations. \n",
    "- For this , you need to split the training data into k splits.\n",
    "- For each split, train a decision tree model and report the training , validation and test scores.\n",
    "- Report the scores in a tabular form for each validation"
   ]
  },
  {
   "cell_type": "code",
   "execution_count": 124,
   "id": "604495ec",
   "metadata": {},
   "outputs": [
    {
     "name": "stdout",
     "output_type": "stream",
     "text": [
      "   Training Scores  Validation Scores  Testing Scores\n",
      "0         0.999396           0.899457        0.907709\n",
      "1         0.999698           0.904891        0.901194\n",
      "2         0.999396           0.883152        0.893594\n",
      "3         0.999396           0.934783        0.912052\n",
      "4         0.999698           0.918478        0.915309\n",
      "5         0.999698           0.926630        0.912052\n",
      "6         0.999698           0.929348        0.900109\n",
      "7         0.999396           0.899457        0.899023\n",
      "8         0.999396           0.915761        0.894680\n",
      "9         0.999396           0.918478        0.913138\n",
      "Mean training score:  0.9995169082125603\n",
      "Mean validation score:  0.9130434782608695\n",
      "Mean testing score:  0.9048859934853419\n"
     ]
    }
   ],
   "source": [
    "# Initialize K and split the data\n",
    "#Run the K fold Validation and report the scores\n",
    "\n",
    "#######################\n",
    "from sklearn.model_selection import KFold\n",
    "from sklearn.tree import DecisionTreeClassifier\n",
    "\n",
    "kf = KFold(n_splits=10, shuffle=True, random_state=42)\n",
    "\n",
    "clf = DecisionTreeClassifier(random_state=0)\n",
    "training_scores = []\n",
    "validation_scores = []\n",
    "testing_scores = []\n",
    "\n",
    "for train_index, test_index in kf.split(X_train,y_train):\n",
    "    # split the data into training and validation\n",
    "    X_train_fold, X_val_fold = X_train[train_index], X_train[test_index]\n",
    "    y_train_fold, y_val_fold = y_train[train_index], y_train[test_index]\n",
    "    \n",
    "    # train the model\n",
    "    clf.fit(X_train_fold, y_train_fold)\n",
    "    # get the training score\n",
    "    training_scores.append(clf.score(X_train_fold, y_train_fold))\n",
    "    # get the validation score\n",
    "    validation_scores.append(clf.score(X_val_fold, y_val_fold))\n",
    "    # get the testing score\n",
    "    testing_scores.append(clf.score(X_test, y_test))\n",
    "\n",
    "print(pd.DataFrame({'Training Scores': training_scores, 'Validation Scores': validation_scores, 'Testing Scores': testing_scores}))\n",
    "print(\"Mean training score: \", np.mean(training_scores))\n",
    "print(\"Mean validation score: \", np.mean(validation_scores))\n",
    "print(\"Mean testing score: \", np.mean(testing_scores))\n",
    "\n",
    "\n",
    "#######################\n"
   ]
  },
  {
   "cell_type": "markdown",
   "id": "12dcdf68",
   "metadata": {},
   "source": [
    "### Question 4 Random Forest Algorithm\n",
    "**[30 points]**"
   ]
  },
  {
   "cell_type": "markdown",
   "id": "61115eaf",
   "metadata": {},
   "source": [
    "1. What is boosting, bagging and  stacking?\n",
    "Which class does random forests belong to and why? **[5 points]**"
   ]
  },
  {
   "cell_type": "markdown",
   "id": "2eaceec1",
   "metadata": {},
   "source": [
    "**Bagging**-  Bagging or Bootstrap Aggregation is an ensemble method in which we randomly draw datasets with replacement from training data such that each dataset is of the same size as the training data. On every dataset we train a weak classifier, and for prediction we take the most frequent class predicted by all the classifiers. It is a technique to reduce variance in the model.\n",
    "\n",
    "**Boosting**- Boosting is an ensemble method in which we train the weak classifiers sequentially unlike bagging where the classifiers are trained parallely. In each iteration, we train a classifier on the training data and then update the weights of the training data based on the performance of the classifier. In the next iteration, we train another classifier on the updated weights of the training data. This process is repeated until the number of iterations is reached. It is a technique to reduce bias in the model.\n",
    "\n",
    "**Stacking**- Stacking is another ensemble method similar to bagging and boosting. Here, however,we take heterogeneous weak classifiers i.e. classifiers are built using different learning algorithms. Every classifer is trained using the entire dataset instead of drawing samples with replacement. The predictions made by these base models are used to train a meta model which is used for prediction. \n",
    "\n",
    "**Random forests** belong to the bagging category because in random forest we train multiple weak decision trees on datasets produced from the training data with replacement and take the most frequent class predicted by all the trees."
   ]
  },
  {
   "cell_type": "markdown",
   "id": "6b9c366d",
   "metadata": {},
   "source": [
    "2. Implement random forest algorithm using different decision trees. **[25 points]** "
   ]
  },
  {
   "cell_type": "code",
   "execution_count": 125,
   "id": "412cfb26",
   "metadata": {},
   "outputs": [
    {
     "name": "stdout",
     "output_type": "stream",
     "text": [
      "Accuracy:  0.8903365906623235\n"
     ]
    }
   ],
   "source": [
    "from collections import Counter\n",
    "from math import sqrt\n",
    "\n",
    "def random_forest_algorithm(): # Pass necessary params as per requirements\n",
    "    #######################\n",
    "    \n",
    "    dts=[]\n",
    "    dt_features = []\n",
    "\n",
    "    num_trees = 71\n",
    "    for i in range(num_trees):\n",
    "        clf=DecisionTreeClassifier(random_state=0,max_depth=5, max_features=int(sqrt(57)))\n",
    "        # select all samples randomly with replacement\n",
    "        samples = np.random.choice(3680, 3680, replace=True)\n",
    "        clf.fit(X_train[samples], y_train[samples])\n",
    "        # append the decision tree to the list of decision trees\n",
    "        dts.append(clf)\n",
    "    \n",
    "    predictions = []\n",
    "    votes = []\n",
    "    # iterate over testing samples\n",
    "    for i in range(X_test.shape[0]): \n",
    "        # iterate over the 100 decision trees\n",
    "        for j in range(num_trees):\n",
    "            # get the prediction of the jth decision tree\n",
    "            pred = dts[j].predict(X_test[i].reshape(1,-1))[0]\n",
    "            votes.append(pred)\n",
    "        majority_vote = Counter(votes).most_common(1)[0][0]\n",
    "        predictions.append(majority_vote)\n",
    "        votes = []\n",
    "    print(\"Accuracy: \", np.mean(predictions == y_test))\n",
    "    #######################\n",
    "\n",
    "random_forest_algorithm()\n",
    "\n"
   ]
  }
 ],
 "metadata": {
  "kernelspec": {
   "display_name": "Python 3.8.10 64-bit",
   "language": "python",
   "name": "python3"
  },
  "language_info": {
   "codemirror_mode": {
    "name": "ipython",
    "version": 3
   },
   "file_extension": ".py",
   "mimetype": "text/x-python",
   "name": "python",
   "nbconvert_exporter": "python",
   "pygments_lexer": "ipython3",
   "version": "3.8.10"
  },
  "vscode": {
   "interpreter": {
    "hash": "916dbcbb3f70747c44a77c7bcd40155683ae19c65e1c03b4aa3499c5328201f1"
   }
  }
 },
 "nbformat": 4,
 "nbformat_minor": 5
}
